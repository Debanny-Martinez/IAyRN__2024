{
  "nbformat": 4,
  "nbformat_minor": 0,
  "metadata": {
    "colab": {
      "provenance": []
    },
    "kernelspec": {
      "name": "python3",
      "display_name": "Python 3"
    },
    "language_info": {
      "name": "python"
    }
  },
  "cells": [
    {
      "cell_type": "markdown",
      "source": [
        "Actividad 2: Diseño de Algoritmos en Python\n",
        "\n",
        "Nombre: Debanny Michelle Martínez García\n",
        "\n",
        "Matricula: 2022210\n",
        "\n",
        "Inteligencia Artificial y Redes Neuronales\n",
        "\n",
        "Hora: N4\n",
        "\n",
        "Dia: L, M y V"
      ],
      "metadata": {
        "id": "KCEJ-qfWRUgk"
      }
    },
    {
      "cell_type": "markdown",
      "source": [
        "Ejercicio 1. Desarrolla un algoritmo que le pida al usuario por su nombre y que lo salude con su nombre, excepto si se llama “Ana”, “Juan”, y “Pedro”."
      ],
      "metadata": {
        "id": "7mRrQfN_v64N"
      }
    },
    {
      "cell_type": "code",
      "execution_count": null,
      "metadata": {
        "id": "a28K9TmWRS6F",
        "colab": {
          "base_uri": "https://localhost:8080/"
        },
        "outputId": "b797ceb5-b78a-4c67-d735-156a82c40bd8"
      },
      "outputs": [
        {
          "output_type": "stream",
          "name": "stdout",
          "text": [
            "Ingrese su nombre: Michelle\n",
            "Holaaa  michelle!! :)\n"
          ]
        }
      ],
      "source": [
        "nombre=input(\"Ingrese su nombre: \")\n",
        "nombre = nombre.lower()\n",
        "if (nombre == \"ana\") or (nombre == \"juan\") or (nombre == \"pedro\"):\n",
        "  print(\"Lo siento, no eres digno de un saludo especial :(\")\n",
        "else:\n",
        "  print(\"Holaaa \",nombre + \"!! :)\")"
      ]
    },
    {
      "cell_type": "markdown",
      "source": [
        "Ejercicio 2. Desarrolla un algoritmo que por medio de una función, le pida al usuario una lista de N elementos y como resultado invierta el sentido de la lista."
      ],
      "metadata": {
        "id": "iYfyqcmYyo-6"
      }
    },
    {
      "cell_type": "code",
      "source": [
        "def invertir_lista():\n",
        "  n = int(input(\"Ingrese el número de elementos de la lista: \"))\n",
        "  lista = []\n",
        "  for i in range(n):\n",
        "    elemento = input(\"Ingrese elemento {}: \".format(i + 1))\n",
        "    lista.append(elemento)\n",
        "  lista.reverse()\n",
        "  print(\"\\nTu lista es la siguiente: \\n\",lista)\n",
        "\n",
        "invertir_lista()"
      ],
      "metadata": {
        "id": "WgjO_PXoyvd-",
        "colab": {
          "base_uri": "https://localhost:8080/"
        },
        "outputId": "2adba4a1-c947-4d22-f13d-570e10cecd58"
      },
      "execution_count": null,
      "outputs": [
        {
          "output_type": "stream",
          "name": "stdout",
          "text": [
            "Ingrese el número de elementos de la lista: 5\n",
            "Ingrese elemento 1: youtiful\n",
            "Ingrese elemento 2: flowers\n",
            "Ingrese elemento 3: the climb\n",
            "Ingrese elemento 4: fireworks\n",
            "Ingrese elemento 5: seven nation army\n",
            "\n",
            "Tu lista es la siguiente: \n",
            " ['seven nation army', 'fireworks', 'the climb', 'flowers', 'youtiful']\n"
          ]
        }
      ]
    },
    {
      "cell_type": "markdown",
      "source": [
        "Ejercicio 3. Desarrolla un algoritmo que le pregunte al usuario cuántos números de la serie de Fibonacci quiere generar y que al final los imprima."
      ],
      "metadata": {
        "id": "w42avhCiSIaY"
      }
    },
    {
      "cell_type": "code",
      "source": [
        "def fibonacci(n):\n",
        "  fib = [0, 1]\n",
        "  for i in range(2, n):\n",
        "    fib.append(fib[i-1] + fib[i-2])\n",
        "  return fib\n",
        "\n",
        "def main():\n",
        "  try:\n",
        "    num_elementos = int(input(\"¿Cuántos números de la serie de Fibonacci quieres generar? \"))\n",
        "    if num_elementos <= 0:\n",
        "      print(\"Por favor, ingresa un número mayor que cero. \")\n",
        "      return\n",
        "    serie = fibonacci(num_elementos)\n",
        "    print(\"\\nLos primeros {} números de la serie de Fibonacci son:\\n \".format(num_elementos))\n",
        "    print(serie)\n",
        "  except ValueError:\n",
        "    print(\"Por favor, ingrese un número entero válido. \")\n",
        "\n",
        "main()"
      ],
      "metadata": {
        "id": "Z_lCpcGHkjx9",
        "colab": {
          "base_uri": "https://localhost:8080/"
        },
        "outputId": "5df81242-4a2b-4fec-dbae-c1db56b006ab"
      },
      "execution_count": null,
      "outputs": [
        {
          "output_type": "stream",
          "name": "stdout",
          "text": [
            "¿Cuántos números de la serie de Fibonacci quieres generar? 15\n",
            "\n",
            "Los primeros 15 números de la serie de Fibonacci son:\n",
            " \n",
            "[0, 1, 1, 2, 3, 5, 8, 13, 21, 34, 55, 89, 144, 233, 377]\n"
          ]
        }
      ]
    },
    {
      "cell_type": "markdown",
      "source": [
        "Ejercicio 4. Juego de adivinar el número: Crea un programa que genere un número aleatorio entre 1 y 100, y luego le pida al usuario que adivine el número. El programa debe proporcionar pistas al usuario si el número es mayor o menor que el número objetivo, y seguir solicitando un nuevo intento hasta que el usuario adivine correctamente."
      ],
      "metadata": {
        "id": "YBqkPM_4k3oA"
      }
    },
    {
      "cell_type": "code",
      "source": [
        "import random\n",
        "def adivinar_numero():\n",
        "  num_secret = random.randint(1, 100)\n",
        "  intentos = 0\n",
        "  print(\"¡Bienvenido al juego de adivinar el número!\")\n",
        "  print(\"\\nEstoy pensando en un número entre 1 y 100.\\n\")\n",
        "  while True:\n",
        "    intento = int(input(\"Intenta adivinar el número: \"))\n",
        "    intentos += 1\n",
        "    if intento < num_secret:\n",
        "      print(\"\\nEl número que tengo en mente es mayor que \",intento)\n",
        "    elif intento < num_secret:\n",
        "      print(\"\\nEl número que tengo en mente es menor que \",intento)\n",
        "    else:\n",
        "      print(\"\\n¡Felicidades!\\n¡Adivinaste el número en \",intentos, \"intentos!\")\n",
        "      break\n",
        "\n",
        "adivinar_numero()"
      ],
      "metadata": {
        "id": "Xwe1jxbjk7w0",
        "colab": {
          "base_uri": "https://localhost:8080/"
        },
        "outputId": "285b6691-e24a-48ee-81de-c5907e6b1545"
      },
      "execution_count": null,
      "outputs": [
        {
          "output_type": "stream",
          "name": "stdout",
          "text": [
            "¡Bienvenido al juego de adivinar el número!\n",
            "\n",
            "Estoy pensando en un número entre 1 y 100.\n",
            "\n",
            "Intenta adivinar el número: 50\n",
            "\n",
            "El número que tengo en mente es mayor que  50\n",
            "Intenta adivinar el número: 55\n",
            "\n",
            "El número que tengo en mente es mayor que  55\n",
            "Intenta adivinar el número: 60\n",
            "\n",
            "El número que tengo en mente es mayor que  60\n",
            "Intenta adivinar el número: 65\n",
            "\n",
            "El número que tengo en mente es mayor que  65\n",
            "Intenta adivinar el número: 70\n",
            "\n",
            "¡Felicidades!\n",
            "¡Adivinaste el número en  5 intentos!\n"
          ]
        }
      ]
    },
    {
      "cell_type": "markdown",
      "source": [
        "Ejercicio 5. Ejercicio de cálculo de números primos en un rango dado: Escribe un programa que solicite al usuario un rango de números y muestre todos los números primos dentro de ese rango."
      ],
      "metadata": {
        "id": "FUPAXBJyk8Ix"
      }
    },
    {
      "cell_type": "code",
      "source": [
        "def numeros_primos():\n",
        "    try:\n",
        "        ini = int(input(\"Ingrese el inicio del rango: \"))\n",
        "        fin = int(input(\"\\nIngrese el fin del rango: \"))\n",
        "\n",
        "        print(\"\\n\\nLos números primos en el rango de \", ini, \" a \", fin, \" son:\\n\")\n",
        "        for num in range(ini, fin + 1):\n",
        "            if num > 1:\n",
        "                for i in range(2, int(num**0.5) + 1):\n",
        "                    if (num % i) == 0:\n",
        "                        break\n",
        "                else:\n",
        "                    print(num, end=\" \")\n",
        "        print()\n",
        "    except ValueError:\n",
        "        print(\"Por favor, ingrese números enteros válidos.\")\n",
        "\n",
        "numeros_primos()"
      ],
      "metadata": {
        "colab": {
          "base_uri": "https://localhost:8080/"
        },
        "id": "1ythVnCLbEnm",
        "outputId": "6bba3097-c1c8-42c0-f62a-8e9ec3136f16"
      },
      "execution_count": 3,
      "outputs": [
        {
          "output_type": "stream",
          "name": "stdout",
          "text": [
            "Ingrese el inicio del rango: 2\n",
            "\n",
            "Ingrese el fin del rango: 30\n",
            "\n",
            "\n",
            "Los números primos en el rango de  2  a  30  son:\n",
            "\n",
            "2 3 5 7 11 13 17 19 23 29 \n"
          ]
        }
      ]
    },
    {
      "cell_type": "markdown",
      "source": [
        "Ejercicio 6. Ejercicio de implementación de una calculadora básica utilizando funciones: Escribe un programa que solicite al usuario dos números y realice operaciones básicas como suma, resta, multiplicación y división utilizando funciones separadas para cada operación."
      ],
      "metadata": {
        "id": "ErjK-sdVlAWL"
      }
    },
    {
      "cell_type": "code",
      "source": [
        "def calculadora():\n",
        "  try:\n",
        "    print(\"¿Qué operación desea realizar?\\n\")\n",
        "    print(\"1. Suma\\n2. Resta\\n3. Multiplicación\\n4. División\")\n",
        "    op = int(input(\"\\nSeleccione la operación a realizar: \"))\n",
        "    num1 = float(input(\"\\nIngrese el primer número: \"))\n",
        "    num2 = float(input(\"Ingrese el segundo número: \"))\n",
        "    if op == 1:\n",
        "      resultado = suma(num1, num2)\n",
        "    elif op == 2:\n",
        "      resultado = resta(num1, num2)\n",
        "    elif op == 3:\n",
        "      resultado = multiplicacion(num1, num2)\n",
        "    elif op == 4:\n",
        "      resultado = division(num1, num2)\n",
        "    else:\n",
        "      print(\"Opción inválida\")\n",
        "      return\n",
        "\n",
        "    print(\"\\nEl resultado es:\", resultado)\n",
        "\n",
        "  except ValueError:\n",
        "    print(\"Por favor, ingrese números válidos.\")\n",
        "\n",
        "def suma(a, b):\n",
        "  return a + b\n",
        "def resta(a, b):\n",
        "  return a - b\n",
        "def multiplicacion(a, b):\n",
        "  return a * b\n",
        "def division(a, b):\n",
        "  return a / b\n",
        "\n",
        "calculadora()"
      ],
      "metadata": {
        "colab": {
          "base_uri": "https://localhost:8080/"
        },
        "outputId": "ece4300e-2253-4fbd-84d5-a4da93a8ae13",
        "id": "ghHGDWeImnH3"
      },
      "execution_count": 12,
      "outputs": [
        {
          "output_type": "stream",
          "name": "stdout",
          "text": [
            "¿Qué operación desea realizar?\n",
            "\n",
            "1. Suma\n",
            "2. Resta\n",
            "3. Multiplicación\n",
            "4. División\n",
            "\n",
            "Seleccione la operación a realizar: 3\n",
            "\n",
            "Ingrese el primer número: 13\n",
            "Ingrese el segundo número: 4\n",
            "\n",
            "El resultado es: 52.0\n"
          ]
        }
      ]
    }
  ]
}